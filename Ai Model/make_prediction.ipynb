{
 "cells": [
  {
   "cell_type": "code",
   "execution_count": null,
   "id": "ad7c7f5d",
   "metadata": {},
   "outputs": [],
   "source": [
    "# This function is already included in your training code\n",
    "def predict_image(image_path, model, class_names):\n",
    "    img = keras.preprocessing.image.load_img(image_path, target_size=IMG_SIZE)\n",
    "    img_array = keras.preprocessing.image.img_to_array(img)\n",
    "    img_array = tf.expand_dims(img_array, 0)  # Create batch dimension\n",
    "    img_array /= 255.0  # Normalize\n",
    "\n",
    "    predictions = model.predict(img_array)\n",
    "    predicted_class = class_names[np.argmax(predictions[0])]\n",
    "    confidence = np.max(predictions[0])\n",
    "\n",
    "    return predicted_class, confidence\n",
    "\n",
    "# Usage example\n",
    "# Load your saved model and class names\n",
    "model = tf.keras.models.load_model('plant_disease_model_final.h5')\n",
    "class_names = list(train_generator.class_indices.keys())  # You need to save this from training\n",
    "\n",
    "# Predict on a single image\n",
    "image_path = '/content/Plant_leave_diseases_dataset_without_augmentation/Tomato___Leaf_Mold/image (170).JPG'\n",
    "predicted_class, confidence = predict_image(image_path, model, class_names)\n",
    "print(f\"Predicted: {predicted_class}\")\n",
    "print(f\"Confidence: {confidence:.4f}\")"
   ]
  }
 ],
 "metadata": {
  "language_info": {
   "name": "python"
  }
 },
 "nbformat": 4,
 "nbformat_minor": 5
}
